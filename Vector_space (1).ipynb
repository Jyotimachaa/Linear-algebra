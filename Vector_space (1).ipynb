{
  "nbformat": 4,
  "nbformat_minor": 0,
  "metadata": {
    "colab": {
      "provenance": []
    },
    "kernelspec": {
      "name": "python3",
      "display_name": "Python 3"
    },
    "language_info": {
      "name": "python"
    }
  },
  "cells": [
    {
      "cell_type": "markdown",
      "source": [
        "# To understand reshape() in python"
      ],
      "metadata": {
        "id": "srD9JKykhAEd"
      }
    },
    {
      "cell_type": "code",
      "source": [
        "import numpy as np\n",
        "from scipy.linalg import solve\n",
        "x = np.array([[0, 1, 1],\n",
        "              [1, 1, 0],\n",
        "              [1, 0, 1]])\n",
        "y = np.array([3.65, 1.55, 0])\n",
        "print(\"dimension of matrix Y\",np.ndim(y))\n",
        "y1=y.reshape(-1, 1)\n",
        "print(\"dimension of matrix Y1\",np.ndim(y1))"
      ],
      "metadata": {
        "colab": {
          "base_uri": "https://localhost:8080/"
        },
        "id": "9SKhYUzire97",
        "outputId": "c7871d94-d1db-4199-fc06-9580c8f5fa46"
      },
      "execution_count": null,
      "outputs": [
        {
          "output_type": "stream",
          "name": "stdout",
          "text": [
            "dimension of matrix Y 1\n",
            "dimension of matrix Y1 2\n"
          ]
        }
      ]
    },
    {
      "cell_type": "markdown",
      "source": [
        "#To creat a function \"check_Linear Combination\" to check Linear combination"
      ],
      "metadata": {
        "id": "OKXovY7109Yu"
      }
    },
    {
      "cell_type": "code",
      "source": [
        "import numpy as np\n",
        "from scipy.linalg import solve\n",
        "\n",
        "\n",
        "def check_Linearcombination(A, b):\n",
        "    # Combine the coefficient matrix A and the constant matrix B\n",
        "    AB = np.hstack((A, b.reshape(-1, 1)))\n",
        "    print(AB)\n",
        "\n",
        "    # To find rank of the matrix\n",
        "    rank_A = np.linalg.matrix_rank(A)\n",
        "    print(\"The rank of a Matrix A\",rank_A)\n",
        "    rank_AB = np.linalg.matrix_rank(AB)\n",
        "    print(\"The rank of a Matrix AB\",rank_AB)\n",
        "    print(\"no of unknowns\",len(A))\n",
        "    if rank_A==rank_AB:\n",
        "      print(\" \")\n",
        "      if rank_A==len(A):\n",
        "        print(\"v can be expressed as LC of A and Which is given as follow\")\n",
        "        x = solve(A, b)\n",
        "      else:\n",
        "        x=\"v can be expressed as LC of A which has infinite way to express it \"\n",
        "    else:\n",
        "      x=\"v can not be expressed as LC of A\"\n",
        "    return x\n",
        "u1 = np.array([0, 1, 1])\n",
        "u2 = np.array([1, 1, 0])\n",
        "u3 = np.array([1, 0, 1])\n",
        "A=[u1,u2,u3]\n",
        "v = np.array([3.65, 1.55, 0])\n",
        "\n",
        "check_Linearcombination(A, v)"
      ],
      "metadata": {
        "colab": {
          "base_uri": "https://localhost:8080/"
        },
        "outputId": "3ac6f262-158c-4774-d4ac-3a25ea284237",
        "id": "DMrRAWv-Tzlq"
      },
      "execution_count": null,
      "outputs": [
        {
          "output_type": "stream",
          "name": "stdout",
          "text": [
            "[[0.   1.   1.   3.65]\n",
            " [1.   1.   0.   1.55]\n",
            " [1.   0.   1.   0.  ]]\n",
            "The rank of a Matrix A 3\n",
            "The rank of a Matrix AB 3\n",
            "no of unknowns 3\n",
            " \n",
            "v can be expressed as LC of A and Which is given as follow\n"
          ]
        },
        {
          "output_type": "execute_result",
          "data": {
            "text/plain": [
              "array([-1.05,  2.6 ,  1.05])"
            ]
          },
          "metadata": {},
          "execution_count": 4
        }
      ]
    },
    {
      "cell_type": "markdown",
      "source": [
        "#To creat a function \"check_LI or LD\" to check LI and LD"
      ],
      "metadata": {
        "id": "mDlihhgt1QDa"
      }
    },
    {
      "cell_type": "code",
      "source": [
        "import numpy as np\n",
        "\n",
        "\n",
        "def check_LI_or_LD(A):\n",
        "\n",
        "    # To find rank of the matrix\n",
        "    rank_A = np.linalg.matrix_rank(A)\n",
        "    print(\"The rank of a Matrix A\",rank_A)\n",
        "    print(\"no of unknowns\",np.shape(A)[0])\n",
        "    if rank_A==np.shape(A)[0]:\n",
        "        x=\"The given set is L.I\"\n",
        "    else:\n",
        "        x=\"The given set is L.D\"\n",
        "    return x\n",
        "u1 = np.array([0, 1, 0])\n",
        "u2 = np.array([1, 1, 0])\n",
        "u3 = np.array([1, 0, 1])\n",
        "u4 = np.array([1, 0, 1])\n",
        "A=[u1,u2,u3,u4]\n",
        "\n",
        "check_LI_or_LD(A)"
      ],
      "metadata": {
        "colab": {
          "base_uri": "https://localhost:8080/",
          "height": 70
        },
        "outputId": "6285baef-c590-4e20-a042-e37f7bc4eed1",
        "id": "cNcQCsdlKZm9"
      },
      "execution_count": null,
      "outputs": [
        {
          "output_type": "stream",
          "name": "stdout",
          "text": [
            "The rank of a Matrix A 3\n",
            "no of unknowns 4\n"
          ]
        },
        {
          "output_type": "execute_result",
          "data": {
            "text/plain": [
              "'The given set is L.D'"
            ],
            "application/vnd.google.colaboratory.intrinsic+json": {
              "type": "string"
            }
          },
          "metadata": {},
          "execution_count": 34
        }
      ]
    },
    {
      "cell_type": "markdown",
      "source": [
        "# Linar spans"
      ],
      "metadata": {
        "id": "dwMpZmeseA_h"
      }
    },
    {
      "cell_type": "code",
      "source": [
        "import numpy as np\n",
        "\n",
        "def is_spans(vectors):\n",
        "\n",
        "    # Let the order of the matrix A is m * n\n",
        "    rank_A=np.linalg.matrix_rank(vectors)# rank of a matrix A\n",
        "    print(\"The rank of a Matrix A\",rank_A)\n",
        "\n",
        "    AB=len(vectors[0])# number of elements in each vector\n",
        "    print(\"no of elements in a vector\",AB)\n",
        "    if rank_A==AB:\n",
        "      x=\"The given vectors Spans the vector space V\"\n",
        "      return x\n",
        "    else:\n",
        "      x=\"The given vectors does not Spans the vector space V\"\n",
        "      return x\n",
        "\n",
        "# Example: Checking if the vectors span vector space\n",
        "vectors = [\n",
        "    [1, 0, 0],\n",
        "    [0, 1, 2]\n",
        "]\n",
        "print(is_spans(vectors))\n",
        "\n",
        "print(\"\")\n",
        "\n",
        "vectors = [\n",
        "    [1, 0, 0],\n",
        "    [0, 1, 0],\n",
        "    [0, 2, 1],\n",
        "    [0, 2, 1]\n",
        "]\n",
        "print(is_spans(vectors))\n"
      ],
      "metadata": {
        "colab": {
          "base_uri": "https://localhost:8080/"
        },
        "id": "W_OeE-2gYMUf",
        "outputId": "324feb07-1f96-4e61-c67f-c293e793a0c5"
      },
      "execution_count": null,
      "outputs": [
        {
          "output_type": "stream",
          "name": "stdout",
          "text": [
            "The rank of a Matrix A 2\n",
            "no of elements in a vector 3\n",
            "The given vectors does not Spans the vector space V\n",
            "\n",
            "The rank of a Matrix A 3\n",
            "no of elements in a vector 3\n",
            "The given vectors Spans the vector space V\n"
          ]
        }
      ]
    },
    {
      "cell_type": "markdown",
      "source": [
        "#Basis for the vector space"
      ],
      "metadata": {
        "id": "MlJy7ssV1Ua0"
      }
    },
    {
      "cell_type": "code",
      "source": [
        "import numpy as np\n",
        "\n",
        "def is_Basis(vectors):\n",
        "\n",
        "    # Let the order of the matrix A is m * n\n",
        "    rank_A=np.linalg.matrix_rank(vectors)# rank of a matrix A\n",
        "    print(\"The rank of a Matrix A\",rank_A)\n",
        "    AB=len(vectors[0])# number of elements in each vector\n",
        "    print(\"number of elements in each vector\",AB)\n",
        "    n=np.shape(vectors)[0]# number of unkowns\n",
        "    print(\"number of unkowns\",n)\n",
        "    if rank_A==AB==n:\n",
        "      x=\"The given vectors forms basis\"\n",
        "      return x\n",
        "    else:\n",
        "      x=\"The given vectors does not forms basis form basis for vector space but it is a basia for subspace W of a vectorspace\"\n",
        "      return x\n",
        "\n",
        "# Example: Checking if the vectors span vector space\n",
        "vectors = [\n",
        "    [1, 0, 0],\n",
        "    [0, 1, 2]\n",
        "]\n",
        "print(is_Basis(vectors))\n",
        "\n",
        "print(\"\")\n",
        "\n",
        "vectors = [\n",
        "    [1, 0, 0],\n",
        "    [0, 1, 0],\n",
        "    [0, 2, 1]\n",
        "]\n",
        "\n",
        "print(is_Basis(vectors))\n",
        "\n"
      ],
      "metadata": {
        "id": "VrlORgZsdfu3",
        "colab": {
          "base_uri": "https://localhost:8080/"
        },
        "outputId": "b9af2568-ba27-4950-c5ad-1e848b59c844"
      },
      "execution_count": null,
      "outputs": [
        {
          "output_type": "stream",
          "name": "stdout",
          "text": [
            "The rank of a Matrix A 2\n",
            "number of elements in each vector 3\n",
            "number of unkowns 2\n",
            "The given vectors does not forms basis form basis for vector space but it is a basia for subspace W of a vectorspace\n",
            "\n",
            "The rank of a Matrix A 3\n",
            "number of elements in each vector 3\n",
            "number of unkowns 3\n",
            "The given vectors forms basis\n"
          ]
        }
      ]
    },
    {
      "cell_type": "markdown",
      "source": [
        "#Four fundamental subspaces"
      ],
      "metadata": {
        "id": "OQlLMNTE1tEo"
      }
    },
    {
      "cell_type": "code",
      "source": [
        "from sympy import *\n",
        "M = Matrix([[1, 2, 3, 0, 0], [4, 10, 0, 0, 1]])\n",
        "print(\"Matrix M\",M)\n",
        "m,n=M.shape\n",
        "print(f\"There are {m} rows and {n} columns\")\n",
        "MT=M.T\n",
        "print(\"Transpose of a Matrix M\",MT)\n",
        "print(\"\")\n",
        "C_M=M.columnspace()\n",
        "print(\"Column space of M\\n\",C_M)\n",
        "print(\"Dimension of Column space of M\\n\",M.rank())\n",
        "print(\"-----------------------------------------\")\n",
        "print(\"-----------------------------------------\")\n",
        "N_M=M.nullspace()\n",
        "print(\"Null space of M\\n\",N_M)\n",
        "print(\"Dimension of Null space of M\\n\",n-M.rank())\n",
        "print(\"-----------------------------------------\")\n",
        "print(\"-----------------------------------------\")\n",
        "C_MT=MT.columnspace()\n",
        "print(\"Row space of M\\n\",C_MT)\n",
        "print(\"Dimension of Row space of M\\n\",MT.rank())\n",
        "print(\"-----------------------------------------\")\n",
        "print(\"-----------------------------------------\")\n",
        "N_MT=MT.nullspace()\n",
        "print(\"Left Null space of M\\n\",N_MT)\n",
        "print(\"Dimension of Left Null space of M\\n\",m-MT.rank())"
      ],
      "metadata": {
        "colab": {
          "base_uri": "https://localhost:8080/"
        },
        "id": "ZxujAdbIx0bo",
        "outputId": "f908d3a6-1f1c-4952-8627-b4164da9c120"
      },
      "execution_count": null,
      "outputs": [
        {
          "output_type": "stream",
          "name": "stdout",
          "text": [
            "Matrix M Matrix([[1, 2, 3, 0, 0], [4, 10, 0, 0, 1]])\n",
            "There are 2 rows and 5 columns\n",
            "Transpose of a Matrix M Matrix([[1, 4], [2, 10], [3, 0], [0, 0], [0, 1]])\n",
            "\n",
            "Column space of M\n",
            " [Matrix([\n",
            "[1],\n",
            "[4]]), Matrix([\n",
            "[ 2],\n",
            "[10]])]\n",
            "Dimension of Column space of M\n",
            " 2\n",
            "-----------------------------------------\n",
            "-----------------------------------------\n",
            "Null space of M\n",
            " [Matrix([\n",
            "[-15],\n",
            "[  6],\n",
            "[  1],\n",
            "[  0],\n",
            "[  0]]), Matrix([\n",
            "[0],\n",
            "[0],\n",
            "[0],\n",
            "[1],\n",
            "[0]]), Matrix([\n",
            "[   1],\n",
            "[-1/2],\n",
            "[   0],\n",
            "[   0],\n",
            "[   1]])]\n",
            "Dimension of Null space of M\n",
            " 3\n",
            "-----------------------------------------\n",
            "-----------------------------------------\n",
            "Row space of M\n",
            " [Matrix([\n",
            "[1],\n",
            "[2],\n",
            "[3],\n",
            "[0],\n",
            "[0]]), Matrix([\n",
            "[ 4],\n",
            "[10],\n",
            "[ 0],\n",
            "[ 0],\n",
            "[ 1]])]\n",
            "Dimension of Row space of M\n",
            " 2\n",
            "-----------------------------------------\n",
            "-----------------------------------------\n",
            "Left Null space of M\n",
            " []\n",
            "Dimension of Left Null space of M\n",
            " 0\n"
          ]
        }
      ]
    },
    {
      "cell_type": "code",
      "source": [],
      "metadata": {
        "id": "PZYQ0qtYyJOi"
      },
      "execution_count": null,
      "outputs": []
    }
  ]
}