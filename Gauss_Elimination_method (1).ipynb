{
  "nbformat": 4,
  "nbformat_minor": 0,
  "metadata": {
    "colab": {
      "provenance": []
    },
    "kernelspec": {
      "name": "python3",
      "display_name": "Python 3"
    },
    "language_info": {
      "name": "python"
    }
  },
  "cells": [
    {
      "cell_type": "markdown",
      "source": [
        "Gauss Elimination Method"
      ],
      "metadata": {
        "id": "sa0xGwCVFqSR"
      }
    },
    {
      "cell_type": "code",
      "source": [
        "import numpy as np\n",
        "# coefficient matrix\n",
        "a=np.array([[1,2,3],[2,-1,1],[3,0,-1]],float)\n",
        "# constant matrix\n",
        "b=np.array([9,8,3],float)\n",
        "print(a)\n",
        "print(b)\n",
        "n=len(a)\n",
        "# Applying Gauss Elimination\n",
        "for i in range (n-1):\n",
        "  for j in range (i+1,n):\n",
        "    if a[j,i]==0: continue\n",
        "    factor=a[j,i]/a[i,i]\n",
        "    for k in range (i,n):\n",
        "      a[j,k]=a[j,k]-a[i,k]*factor\n",
        "    b[j]=b[j]-b[i]*factor\n",
        "print(a)\n",
        "print(b)\n",
        "x = np.zeros(n)\n",
        "print(x)\n",
        "# Back Substitution\n",
        "x[n-1] = b[n-1]/a[n-1][n-1]\n",
        "\n",
        "for i in range(n-2,-1,-1):\n",
        "    sum=0\n",
        "\n",
        "    for j in range(i+1,n):\n",
        "        sum = sum+a[i,j]*x[j]\n",
        "    x[i]=(b[i]-sum)/a[i,i]\n",
        "print(x)\n",
        "\n",
        "# Displaying solution\n",
        "print('\\nRequired solution is: ')\n",
        "for i in range(n):\n",
        "    print('X%d = %0.2f' %(i,x[i]), end = '\\t')"
      ],
      "metadata": {
        "colab": {
          "base_uri": "https://localhost:8080/"
        },
        "id": "9M7e8ty6J8B2",
        "outputId": "043aabbd-e7ea-41e2-e147-7fc81e360fc6"
      },
      "execution_count": null,
      "outputs": [
        {
          "output_type": "stream",
          "name": "stdout",
          "text": [
            "[[ 1.  2.  3.]\n",
            " [ 2. -1.  1.]\n",
            " [ 3.  0. -1.]]\n",
            "[9. 8. 3.]\n",
            "[[ 1.  2.  3.]\n",
            " [ 0. -5. -5.]\n",
            " [ 0.  0. -4.]]\n",
            "[  9. -10. -12.]\n",
            "[0. 0. 0.]\n",
            "[ 2. -1.  3.]\n",
            "\n",
            "Required solution is: \n",
            "X0 = 2.00\tX1 = -1.00\tX2 = 3.00\t"
          ]
        }
      ]
    },
    {
      "cell_type": "code",
      "source": [
        "import numpy as np\n",
        "# coefficient matrix\n",
        "a=np.array([[1,2,3],[2,-1,1],[3,0,-1]],float)\n",
        "# constant matrix\n",
        "b=np.array([9,8,3],float)\n",
        "print(a)\n",
        "print(b)\n",
        "n=len(a)\n",
        "# Applying Gauss Elimination\n",
        "for i in range (n-1):\n",
        "  for j in range (i+1,n):\n",
        "    if a[j,i]==0: continue\n",
        "    factor=a[i,i]/a[j,i]\n",
        "    for k in range (i,n):\n",
        "      a[j,k]=a[j,k]*factor-a[i,k]\n",
        "    b[j]=b[j]*factor-b[i]\n",
        "print(a)\n",
        "print(b)\n",
        "x = np.zeros(n)\n",
        "print(x)\n",
        "# Back Substitution\n",
        "x[n-1] = b[n-1]/a[n-1][n-1]\n",
        "\n",
        "for i in range(n-2,-1,-1):\n",
        "    sum=0\n",
        "\n",
        "    for j in range(i+1,n):\n",
        "        sum = sum+a[i,j]*x[j]\n",
        "    x[i]=(b[i]-sum)/a[i,i]\n",
        "print(x)\n",
        "\n",
        "# Displaying solution\n",
        "print('\\nRequired solution is: ')\n",
        "for i in range(n):\n",
        "    print('X%d = %0.2f' %(i,x[i]), end = '\\t')"
      ],
      "metadata": {
        "id": "KjCcQxvpSfNg",
        "colab": {
          "base_uri": "https://localhost:8080/"
        },
        "outputId": "67696d5f-19cd-4c95-babe-48971e8ae15c"
      },
      "execution_count": null,
      "outputs": [
        {
          "output_type": "stream",
          "name": "stdout",
          "text": [
            "[[ 1.  2.  3.]\n",
            " [ 2. -1.  1.]\n",
            " [ 3.  0. -1.]]\n",
            "[9. 8. 3.]\n",
            "[[ 1.          2.          3.        ]\n",
            " [ 0.         -2.5        -2.5       ]\n",
            " [ 0.          0.         -1.66666667]]\n",
            "[ 9. -5. -5.]\n",
            "[0. 0. 0.]\n",
            "[ 2. -1.  3.]\n",
            "\n",
            "Required solution is: \n",
            "X0 = 2.00\tX1 = -1.00\tX2 = 3.00\t"
          ]
        }
      ]
    },
    {
      "cell_type": "code",
      "source": [
        "import numpy as np\n",
        "# Augmented matrix\n",
        "a=np.array([[4,3,-5,2],[-4,-5,7,-4],[8,6,-8,6]],float)\n",
        "print(a)\n",
        "n=len(a)\n",
        "print(n)\n",
        "# Applying Gauss Elimination\n",
        "for i in range (n-1):\n",
        "  for j in range (i+1,n):\n",
        "    if a[j,i]==0: continue\n",
        "    factor=a[i,i]/a[j,i]\n",
        "    for k in range (i,n+1):\n",
        "      a[j,k]=a[j,k]*factor-a[i,k]\n",
        "print(a)\n",
        "x = np.zeros(n)\n",
        "print(x)\n",
        "# Back Substitution\n",
        "x[n-1] = a[n-1,n]/a[n-1,n-1]\n",
        "\n",
        "for i in range(n-2,-1,-1):\n",
        "    sum=0\n",
        "    for j in range(i+1,n):\n",
        "        sum = sum+a[i,j]*x[j]\n",
        "    x[i]=(a[i,j+1]-sum)/a[i,i]\n",
        "print(x)\n",
        "\n",
        "# Displaying solution\n",
        "print('\\nRequired solution is: ')\n",
        "for i in range(n):\n",
        "    print('X%d = %0.2f' %(i,x[i]), end = '\\t')"
      ],
      "metadata": {
        "colab": {
          "base_uri": "https://localhost:8080/"
        },
        "id": "hkOemdBfNM-0",
        "outputId": "0e1e1e36-99b1-4be9-dff2-d875ee84cc8a"
      },
      "execution_count": null,
      "outputs": [
        {
          "output_type": "stream",
          "name": "stdout",
          "text": [
            "[[ 4.  3. -5.  2.]\n",
            " [-4. -5.  7. -4.]\n",
            " [ 8.  6. -8.  6.]]\n",
            "3\n",
            "[[ 4.  3. -5.  2.]\n",
            " [ 0.  2. -2.  2.]\n",
            " [ 0.  0.  1.  1.]]\n",
            "[0. 0. 0.]\n",
            "[0.25 2.   1.  ]\n",
            "\n",
            "Required solution is: \n",
            "X0 = 0.25\tX1 = 2.00\tX2 = 1.00\t"
          ]
        }
      ]
    },
    {
      "cell_type": "code",
      "source": [],
      "metadata": {
        "id": "NWVPKBr7NXMN"
      },
      "execution_count": null,
      "outputs": []
    }
  ]
}