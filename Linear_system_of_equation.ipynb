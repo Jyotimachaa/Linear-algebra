{
  "nbformat": 4,
  "nbformat_minor": 0,
  "metadata": {
    "colab": {
      "provenance": []
    },
    "kernelspec": {
      "name": "python3",
      "display_name": "Python 3"
    },
    "language_info": {
      "name": "python"
    }
  },
  "cells": [
    {
      "cell_type": "markdown",
      "source": [
        "# Augmented Matrix of Linear system of equations"
      ],
      "metadata": {
        "id": "sa0xGwCVFqSR"
      }
    },
    {
      "cell_type": "code",
      "source": [
        "import sympy as sp\n",
        "\n",
        "# Define the symbolic variables\n",
        "x1, x2 = sp.symbols('x1 x2')\n",
        "\n",
        "# Define the coefficient matrix A and the right-hand side vector b\n",
        "A = sp.Matrix([[2, 3], [4, 1]])  # Coefficient matrix (2x2)\n",
        "b = sp.Matrix([5, 6])            # Right-hand side vector (2x1)\n",
        "\n",
        "# Construct the augmented matrix [A|b]\n",
        "augmented_matrix = A.row_join(b)\n",
        "\n",
        "# Display the augmented matrix\n",
        "print(\"Augmented Matrix [A|b]:\")\n",
        "sp.pprint(augmented_matrix)"
      ],
      "metadata": {
        "colab": {
          "base_uri": "https://localhost:8080/"
        },
        "id": "hxCztRhgBlbo",
        "outputId": "05b107a1-ac87-450d-db74-14137e2e7398"
      },
      "execution_count": null,
      "outputs": [
        {
          "output_type": "stream",
          "name": "stdout",
          "text": [
            "Augmented Matrix [A|b]:\n",
            "⎡2  3  5⎤\n",
            "⎢       ⎥\n",
            "⎣4  1  6⎦\n"
          ]
        }
      ]
    },
    {
      "cell_type": "markdown",
      "source": [
        "#Row echelon form of linear system of equations"
      ],
      "metadata": {
        "id": "ylFYOSZaRxBB"
      }
    },
    {
      "cell_type": "code",
      "source": [
        "import sympy as sp\n",
        "\n",
        "def row_echelon_form(A):\n",
        "    # Get the number of rows and columns in the matrix A\n",
        "    rows, cols = A.shape\n",
        "\n",
        "    # Perform row operations to achieve row echelon form\n",
        "    row = 0  # Start from the first row\n",
        "    for col in range(cols - 1):  # Ignore the last column (b vector in augmented matrix)\n",
        "        if row >= rows:\n",
        "            break\n",
        "\n",
        "        # Find the pivot in the current column (the first non-zero element in this column)\n",
        "        if A[row, col] == 0:\n",
        "            # If the pivot is zero, swap the current row with a row below it that has a non-zero element in this column\n",
        "            for i in range(row + 1, rows):\n",
        "                if A[i, col] != 0:\n",
        "                    A.row_swap(row, i)\n",
        "                    break\n",
        "\n",
        "        # Eliminate the entries below the pivot in the current column\n",
        "        for i in range(row + 1, rows):\n",
        "            if A[i, col] != 0:\n",
        "                A[i, :] = A[i, :] - (A[i, col]/A[col,col]) * A[row, :]\n",
        "                print(A[i,:])\n",
        "\n",
        "        # Move to the next row\n",
        "        row += 1\n",
        "\n",
        "    return A\n",
        "\n",
        "# Example augmented matrix [A|b]\n",
        "A = sp.Matrix([\n",
        "    [1, 2, 3, 9],\n",
        "    [2, 3, 1, 8],\n",
        "    [3, 4, 2, 7]\n",
        "])\n",
        "\n",
        "# Display the matrix before row reduction\n",
        "print(\"Original augmented matrix:\")\n",
        "sp.pprint(A)\n",
        "\n",
        "# Convert to Row Echelon Form (REF)\n",
        "REF_A = row_echelon_form(A)\n",
        "\n",
        "# Display the Row Echelon Form (REF) matrix\n",
        "print(\"\\nRow Echelon Form (REF) of the augmented matrix:\")\n",
        "sp.pprint(REF_A)\n"
      ],
      "metadata": {
        "colab": {
          "base_uri": "https://localhost:8080/"
        },
        "id": "QMgEp4jBNtg8",
        "outputId": "c99effab-f8bb-453a-8d78-d0df9c482f32"
      },
      "execution_count": null,
      "outputs": [
        {
          "output_type": "stream",
          "name": "stdout",
          "text": [
            "Original augmented matrix:\n",
            "⎡1  2  3  9⎤\n",
            "⎢          ⎥\n",
            "⎢2  3  1  8⎥\n",
            "⎢          ⎥\n",
            "⎣3  4  2  7⎦\n",
            "Matrix([[0, -1, -5, -10]])\n",
            "Matrix([[0, -2, -7, -20]])\n",
            "Matrix([[0, 0, 3, 0]])\n",
            "\n",
            "Row Echelon Form (REF) of the augmented matrix:\n",
            "⎡1  2   3    9 ⎤\n",
            "⎢              ⎥\n",
            "⎢0  -1  -5  -10⎥\n",
            "⎢              ⎥\n",
            "⎣0  0   3    0 ⎦\n"
          ]
        }
      ]
    },
    {
      "cell_type": "markdown",
      "source": [
        "#One more code to find row ehelon form of a matrix"
      ],
      "metadata": {
        "id": "KGkEStmFVF-A"
      }
    },
    {
      "cell_type": "code",
      "source": [
        "import numpy as np\n",
        "# Function to check if matrix is in REF\n",
        "\n",
        "def is_row_echelon_form(matrix):\n",
        "\tif not matrix.any():\n",
        "\t\treturn False\n",
        "\n",
        "\trows = matrix.shape[0]\n",
        "\tcols = matrix.shape[1]\n",
        "\tprev_leading_col = -1\n",
        "\n",
        "\tfor row in range(rows):\n",
        "\t\tleading_col_found = False\n",
        "\t\tfor col in range(cols):\n",
        "\t\t\tif matrix[row, col] != 0:\n",
        "\t\t\t\tif col <= prev_leading_col:\n",
        "\t\t\t\t\treturn False\n",
        "\t\t\t\tprev_leading_col = col\n",
        "\t\t\t\tleading_col_found = True\n",
        "\t\t\t\tbreak\n",
        "\t\tif not leading_col_found and any(matrix[row, col] != 0 for col in range(cols)):\n",
        "\t\t\treturn False\n",
        "\treturn True\n",
        "\n",
        "def find_nonzero_row(matrix, pivot_row, col):\n",
        "\tnrows = matrix.shape[0]\n",
        "\tfor row in range(pivot_row, nrows):\n",
        "\t\tif matrix[row, col] != 0:\n",
        "\t\t\treturn row\n",
        "\treturn None\n",
        "\n",
        "# Swapping rows so that we can have our non zero row on the top of the matrix\n",
        "def swap_rows(matrix, row1, row2):\n",
        "\tmatrix[[row1, row2]] = matrix[[row2, row1]]\n",
        "\n",
        "def make_pivot_one(matrix, pivot_row, col):\n",
        "\tpivot_element = matrix[pivot_row, col]\n",
        "\tmatrix[pivot_row] //= pivot_element\n",
        "\t# print(pivot_element)\n",
        "\n",
        "def eliminate_below(matrix, pivot_row, col):\n",
        "\tnrows = matrix.shape[0]\n",
        "\tpivot_element = matrix[pivot_row, col]\n",
        "\tfor row in range(pivot_row + 1, nrows):\n",
        "\t\tfactor = matrix[row, col]\n",
        "\t\tmatrix[row] -= factor * matrix[pivot_row]\n",
        "\n",
        "# Implementing above functions\n",
        "def row_echelon_form(matrix):\n",
        "\tnrows = matrix.shape[0]\n",
        "\tncols = matrix.shape[1]\n",
        "\tpivot_row = 0\n",
        "# this will run for number of column times. If matrix has 3 columns this loop will run for 3 times\n",
        "\tfor col in range(ncols):\n",
        "\t\tnonzero_row = find_nonzero_row(matrix, pivot_row, col)\n",
        "\t\tif nonzero_row is not None:\n",
        "\t\t\tswap_rows(matrix, pivot_row, nonzero_row)\n",
        "\t\t\tmake_pivot_one(matrix, pivot_row, col)\n",
        "\t\t\teliminate_below(matrix, pivot_row, col)\n",
        "\t\t\tpivot_row += 1\n",
        "\treturn matrix\n",
        "\n",
        "\n",
        "matrix = np.array([[3,-2,4,-2],[2,1,10,7],[-4,4,-8,4],[4,-1,14,6]])\n",
        "print(\"Matrix Before Converting:\")\n",
        "print(matrix)\n",
        "print()\n",
        "result = row_echelon_form(matrix)\n",
        "print(\"After Converting to Row Echelon Form:\")\n",
        "print(result)\n",
        "if is_row_echelon_form(result):\n",
        "\tprint(\"In REF\")\n",
        "else:\n",
        "\tprint(\"Not in REF--------------->\")\n"
      ],
      "metadata": {
        "colab": {
          "base_uri": "https://localhost:8080/"
        },
        "id": "qVZHVUcvVST_",
        "outputId": "89d8620a-2c78-43f9-f97d-9d33ce1b9226"
      },
      "execution_count": null,
      "outputs": [
        {
          "output_type": "stream",
          "name": "stdout",
          "text": [
            "Matrix Before Converting:\n",
            "[[ 3 -2  4 -2]\n",
            " [ 2  1 10  7]\n",
            " [-4  4 -8  4]\n",
            " [ 4 -1 14  6]]\n",
            "\n",
            "After Converting to Row Echelon Form:\n",
            "[[ 1 -1  1 -1]\n",
            " [ 0  1  2  3]\n",
            " [ 0  0  1  0]\n",
            " [ 0  0  0  1]]\n",
            "In REF\n"
          ]
        }
      ]
    },
    {
      "cell_type": "markdown",
      "source": [
        "# Row reduced echelon form"
      ],
      "metadata": {
        "id": "iir6HLnaRNmR"
      }
    },
    {
      "cell_type": "code",
      "source": [
        "import sympy as sp\n",
        "\n",
        "# Define the symbolic variables\n",
        "x1, x2 = sp.symbols('x1 x2')\n",
        "\n",
        "# Define the coefficient matrix A and the right-hand side vector b\n",
        "A = sp.Matrix([[2, 3], [4, 1]])  # Coefficient matrix (2x2)\n",
        "b = sp.Matrix([5, 6])            # Right-hand side vector (2x1)\n",
        "\n",
        "# Construct the augmented matrix [A|b]\n",
        "augmented_matrix = A.row_join(b)\n",
        "\n",
        "# Display the augmented matrix\n",
        "print(\"Augmented Matrix [A|b]:\")\n",
        "sp.pprint(augmented_matrix)\n",
        "\n",
        "# Compute the Row reduced Echelon Form (RREF) of the augmented matrix\n",
        "RREF_matrix, pivot_columns = augmented_matrix.rref()\n",
        "\n",
        "# Display the Row Reduced Echelon Form (RREF)\n",
        "print(\"\\nRow Echelon Form (RREF) of the augmented matrix:\")\n",
        "sp.pprint(RREF_matrix)"
      ],
      "metadata": {
        "colab": {
          "base_uri": "https://localhost:8080/"
        },
        "id": "nHcUOQsrRL0e",
        "outputId": "8936a6be-9810-4cff-a455-a78f8984c42f"
      },
      "execution_count": null,
      "outputs": [
        {
          "output_type": "stream",
          "name": "stdout",
          "text": [
            "Augmented Matrix [A|b]:\n",
            "⎡2  3  5⎤\n",
            "⎢       ⎥\n",
            "⎣4  1  6⎦\n",
            "\n",
            "Row Echelon Form (RREF) of the augmented matrix:\n",
            "⎡      13 ⎤\n",
            "⎢1  0  ── ⎥\n",
            "⎢      10 ⎥\n",
            "⎢         ⎥\n",
            "⎣0  1  4/5⎦\n"
          ]
        }
      ]
    },
    {
      "cell_type": "markdown",
      "source": [
        "#To creat a function \"check_consistency\" to check consistency"
      ],
      "metadata": {
        "id": "NNfSU2ocheyD"
      }
    },
    {
      "cell_type": "code",
      "source": [
        "import numpy as np\n",
        "from scipy.linalg import solve\n",
        "\n",
        "\n",
        "def check_consistency(A, b):\n",
        "    # Combine the coefficient matrix A and the constant matrix B\n",
        "    AB = np.hstack((A, b.reshape(-1, 1)))\n",
        "    print(AB)\n",
        "\n",
        "    # To find rank of the matrix\n",
        "    rank_A = np.linalg.matrix_rank(A)\n",
        "    print(\"The rank of a Matrix A\",rank_A)\n",
        "    rank_AB = np.linalg.matrix_rank(AB)\n",
        "    print(\"The rank of a Matrix AB\",rank_AB)\n",
        "    print(\"no of unknowns\",len(A))\n",
        "    if rank_A==rank_AB:\n",
        "      print(\"The system in consistent\")\n",
        "      if rank_A==len(A):\n",
        "        print(\"The system has uniqe solution\")\n",
        "        x = solve(A, b)\n",
        "      else:\n",
        "        x=\"The system has infinitely Many solution\"\n",
        "    else:\n",
        "      x=\"The system is inconsistent\"\n",
        "      return x\n",
        "x = np.array([[0, 1, 1],\n",
        "              [1, 1, 0],\n",
        "              [1, 0, 1]])\n",
        "y = np.array([3.65, 1.55, 0])\n",
        "check_consistency(x, y)"
      ],
      "metadata": {
        "id": "4-fMPY5lKO2-",
        "colab": {
          "base_uri": "https://localhost:8080/"
        },
        "outputId": "6b1fd6c0-ff31-4fda-f94a-8a7e21d43a21"
      },
      "execution_count": 1,
      "outputs": [
        {
          "output_type": "stream",
          "name": "stdout",
          "text": [
            "[[0.   1.   1.   3.65]\n",
            " [1.   1.   0.   1.55]\n",
            " [1.   0.   1.   0.  ]]\n",
            "The rank of a Matrix A 3\n",
            "The rank of a Matrix AB 3\n",
            "no of unknowns 3\n",
            "The system in consistent\n",
            "The system has uniqe solution\n"
          ]
        }
      ]
    },
    {
      "cell_type": "markdown",
      "source": [
        "# solve linear system of equation Ax=B"
      ],
      "metadata": {
        "id": "EwTdIqVPUA_l"
      }
    },
    {
      "cell_type": "code",
      "source": [
        "\n",
        "from sympy import symbols, simplify\n",
        "from sympy.matrices import Matrix\n",
        "import sympy\n",
        "c, d, e = symbols(\"c, d, e\")\n",
        "A = Matrix([[1,2,3], [2, 3,5],[2, 3,6]])\n",
        "sympy.pprint(A)\n",
        "b = Matrix([c, d,e])\n",
        "AB= A.row_join(b)\n",
        "sympy.pprint(AB)\n",
        "if A.rank()==AB.rank():\n",
        "  if sympy.det(A)!=0:\n",
        "    x1,x2,x3 = A.solve(b)\n",
        "    print(f\"The required uniqe solution is\\nx1={x1}\\nx2={x2}\\nx3={x3}\")\n",
        "  else:\n",
        "    print(\"It has infinitely many solution\")\n",
        "else:\n",
        "  print(\"The system has no solution\")"
      ],
      "metadata": {
        "colab": {
          "base_uri": "https://localhost:8080/"
        },
        "id": "hc-3k54luaPq",
        "outputId": "ef5d4e78-db1e-40e3-c667-6ac90b09c1d7"
      },
      "execution_count": null,
      "outputs": [
        {
          "output_type": "stream",
          "name": "stdout",
          "text": [
            "⎡1  2  3⎤\n",
            "⎢       ⎥\n",
            "⎢2  3  5⎥\n",
            "⎢       ⎥\n",
            "⎣2  3  6⎦\n",
            "⎡1  2  3  c⎤\n",
            "⎢          ⎥\n",
            "⎢2  3  5  d⎥\n",
            "⎢          ⎥\n",
            "⎣2  3  6  e⎦\n",
            "The required uniqe solution is\n",
            "x1=-3*c + 3*d - e\n",
            "x2=2*c - e\n",
            "x3=-d + e\n"
          ]
        }
      ]
    },
    {
      "cell_type": "markdown",
      "source": [
        "# Gauss Eliminiation Mathod\n"
      ],
      "metadata": {
        "id": "sfgyMJYkRCM9"
      }
    },
    {
      "cell_type": "code",
      "source": [
        "import numpy as np\n",
        "# coefficient matrix\n",
        "a=np.array([[1,2,3],[1,2,1],[0,1,-1]],float)\n",
        "# constant matrix\n",
        "b=np.array([9,8,3],float)\n",
        "print(f\"coefficient matrix is {a}\")\n",
        "print(\"\")\n",
        "print(f\"constant matrix is {b}\")\n",
        "print(\"\")\n",
        "n=np.shape(a)[0]\n",
        "print(f\"number of unknowns {n}\")\n",
        "print(\"\")\n",
        "# Applying Gauss Elimination\n",
        "if  np.linalg.det(a)==0:\n",
        "  print(\"Gauss elimination method can not be applied\")\n",
        "else:\n",
        "  for i in range (n-1):\n",
        "    if (a[i,i]==0):\n",
        "      for j in range (i+1,n):\n",
        "        if  (a[j,i]!=0):\n",
        "          a[[i,j]]=a[[j,i]]\n",
        "        else:\n",
        "         continue\n",
        "    else:\n",
        "      for j in range (i+1,n):\n",
        "        if a[j,i]==0: continue\n",
        "        factor=a[j,i]/a[i,i]\n",
        "        for k in range (i,n):\n",
        "          a[j,k]=a[j,k]-a[i,k]*factor\n",
        "        b[j]=b[j]-b[i]*factor\n",
        "print(f\" Upper triangular matrix of coefficient matrix\\n {a}\")\n",
        "print(f\" Updated matrix of the constant matrix {b}\")\n",
        "print(\"\")\n",
        "x = np.zeros(n)\n",
        "print(f\"initial values for unknowns {x}\")\n",
        "print(\"\")\n",
        "#Back Substitution\n",
        "print(\"Back Substitution\")\n",
        "x[n-1] = b[n-1]/a[n-1][n-1]\n",
        "\n",
        "for i in range(n-2,-1,-1):\n",
        "    sum=0\n",
        "\n",
        "    for j in range(i+1,n):\n",
        "        sum = sum+a[i,j]*x[j]\n",
        "    x[i]=(b[i]-sum)/a[i,i]\n",
        "\n",
        "# Displaying solution\n",
        "print('\\nRequired solution after applying back substitution is: ')\n",
        "for i in range(n):\n",
        "    print('X%d = %0.2f' %(i,x[i]), end = '\\t')"
      ],
      "metadata": {
        "colab": {
          "base_uri": "https://localhost:8080/"
        },
        "id": "9M7e8ty6J8B2",
        "outputId": "a51bedc9-e82a-42f1-87ad-cb620c172018"
      },
      "execution_count": null,
      "outputs": [
        {
          "output_type": "stream",
          "name": "stdout",
          "text": [
            "coefficient matrix is [[ 1.  2.  3.]\n",
            " [ 1.  2.  1.]\n",
            " [ 0.  1. -1.]]\n",
            "\n",
            "constant matrix is [9. 8. 3.]\n",
            "\n",
            "number of unknowns 3\n",
            "\n",
            " Upper triangular matrix of coefficient matrix\n",
            " [[ 1.  2.  3.]\n",
            " [ 0.  1. -1.]\n",
            " [ 0.  0. -2.]]\n",
            " Updated matrix of the constant matrix [ 9. -1.  3.]\n",
            "\n",
            "initial values for unknowns [0. 0. 0.]\n",
            "\n",
            "Back Substitution\n",
            "\n",
            "Required solution after applying back substitution is: \n",
            "X0 = 18.50\tX1 = -2.50\tX2 = -1.50\t"
          ]
        }
      ]
    },
    {
      "cell_type": "markdown",
      "source": [
        "#Gauss elimination input as augmented matrix"
      ],
      "metadata": {
        "id": "l3-CbGc3W8BJ"
      }
    },
    {
      "cell_type": "code",
      "source": [
        "import numpy as np\n",
        "# Augmented matrix\n",
        "a=np.array([[4,3,-5,2],[-4,-5,7,-4],[8,6,-8,6]],float)\n",
        "print(f\"Augmented matrix is\\n{a}\")\n",
        "n=len(a)\n",
        "print(f\"The number of row are \\n{n}\")\n",
        "# Applying Gauss Elimination\n",
        "for i in range (n-1):\n",
        "  for j in range (i+1,n):\n",
        "    if a[j,i]==0: continue\n",
        "    factor=a[i,i]/a[j,i]\n",
        "    for k in range (i,n+1):\n",
        "      a[j,k]=a[j,k]*factor-a[i,k]\n",
        "print(f\"Upper triangular matrix of augmented matrix \\n{a}\")\n",
        "x = np.zeros(n)\n",
        "print(f\"The Initial approximation of x {x}\")\n",
        "# Back Substitution\n",
        "x[n-1] = a[n-1,n]/a[n-1,n-1]\n",
        "\n",
        "for i in range(n-2,-1,-1):\n",
        "    sum=0\n",
        "    for j in range(i+1,n):\n",
        "        sum = sum+a[i,j]*x[j]\n",
        "    x[i]=(a[i,j+1]-sum)/a[i,i]\n",
        "\n",
        "# Displaying solution\n",
        "print('\\nRequired solution is: ')\n",
        "for i in range(n):\n",
        "    print('X%d = %0.2f' %(i,x[i]), end = '\\t')"
      ],
      "metadata": {
        "colab": {
          "base_uri": "https://localhost:8080/"
        },
        "id": "hkOemdBfNM-0",
        "outputId": "937c1639-3e77-4185-d7c2-d76555833621"
      },
      "execution_count": null,
      "outputs": [
        {
          "output_type": "stream",
          "name": "stdout",
          "text": [
            "Augmented matrix is\n",
            "[[ 4.  3. -5.  2.]\n",
            " [-4. -5.  7. -4.]\n",
            " [ 8.  6. -8.  6.]]\n",
            "The number of row are \n",
            "3\n",
            "Upper triangular matrix of augmented matrix \n",
            "[[ 4.  3. -5.  2.]\n",
            " [ 0.  2. -2.  2.]\n",
            " [ 0.  0.  1.  1.]]\n",
            "The Initial approximation of x [0. 0. 0.]\n",
            "\n",
            "Required solution is: \n",
            "X0 = 0.25\tX1 = 2.00\tX2 = 1.00\t"
          ]
        }
      ]
    },
    {
      "cell_type": "markdown",
      "source": [
        "#Gauss Jordan Mathod"
      ],
      "metadata": {
        "id": "FigIvnXjc-7p"
      }
    },
    {
      "cell_type": "code",
      "source": [
        "import sympy as sp\n",
        "\n",
        "# Define the symbolic variables\n",
        "x1, x2 = sp.symbols('x1 x2')\n",
        "\n",
        "# Define the coefficient matrix A and the right-hand side vector b\n",
        "A = sp.Matrix([[2, 3], [4, 1]])  # Coefficient matrix (2x2)\n",
        "b = sp.Matrix([5, 6])            # Right-hand side vector (2x1)\n",
        "\n",
        "# Construct the augmented matrix [A|b]\n",
        "augmented_matrix = A.row_join(b)\n",
        "\n",
        "# Display the augmented matrix\n",
        "print(\"Augmented Matrix [A|b]:\")\n",
        "sp.pprint(augmented_matrix)\n",
        "\n",
        "# Compute the Row reduced Echelon Form (RREF) of the augmented matrix\n",
        "RREF_matrix, pivot_columns = augmented_matrix.rref()\n",
        "\n",
        "# Display the Row Reduced Echelon Form (RREF)\n",
        "print(\"\\nRow Reduced Echelon Form (RREF) of the augmented matrix:\")\n",
        "sp.pprint(RREF_matrix)\n",
        "\n",
        "#The solution is\n",
        "for i in range(len(RREF_matrix[:,-1])):\n",
        "  print(f\"The solutions are x{i}={RREF_matrix[:,-1][i]}\")"
      ],
      "metadata": {
        "id": "NWVPKBr7NXMN",
        "colab": {
          "base_uri": "https://localhost:8080/"
        },
        "outputId": "91207366-613b-4264-b9cb-66b8ec03d110"
      },
      "execution_count": null,
      "outputs": [
        {
          "output_type": "stream",
          "name": "stdout",
          "text": [
            "Augmented Matrix [A|b]:\n",
            "⎡2  3  5⎤\n",
            "⎢       ⎥\n",
            "⎣4  1  6⎦\n",
            "\n",
            "Row Reduced Echelon Form (RREF) of the augmented matrix:\n",
            "⎡      13 ⎤\n",
            "⎢1  0  ── ⎥\n",
            "⎢      10 ⎥\n",
            "⎢         ⎥\n",
            "⎣0  1  4/5⎦\n",
            "The solutions are x0=13/10\n",
            "The solutions are x1=4/5\n"
          ]
        }
      ]
    },
    {
      "cell_type": "code",
      "source": [],
      "metadata": {
        "id": "Fytshm2aaz3N"
      },
      "execution_count": null,
      "outputs": []
    }
  ]
}