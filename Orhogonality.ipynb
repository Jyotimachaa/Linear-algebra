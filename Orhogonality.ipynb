{
  "nbformat": 4,
  "nbformat_minor": 0,
  "metadata": {
    "colab": {
      "provenance": []
    },
    "kernelspec": {
      "name": "python3",
      "display_name": "Python 3"
    },
    "language_info": {
      "name": "python"
    }
  },
  "cells": [
    {
      "cell_type": "markdown",
      "source": [
        "\n",
        "# Orthogonal vectors and orthonormal vectors"
      ],
      "metadata": {
        "id": "UzHfPoziS94f"
      }
    },
    {
      "cell_type": "code",
      "source": [
        "import numpy as np\n",
        "vectors = [\n",
        "    [1, 0, 0],\n",
        "    [0, 2, 0]\n",
        "]\n",
        "# Calculate the dot product of vectors[0] and vectors[1]\n",
        "dot_product = np.dot(vectors[0], vectors[1])\n",
        "print(f\"The dot product between two vectors is {dot_product}\")\n",
        "# Calculate the length of vectors[0] and vectors[1]\n",
        "norm_v0=np.linalg.norm(vectors[0])\n",
        "print(f\"The length of the vector {vectors[0]} is {norm_v0}\")\n",
        "norm_v1=np.linalg.norm(vectors[1])\n",
        "print(f\"The length of the vector {vectors[1]} is {norm_v1}\")\n",
        "if dot_product==0:\n",
        "  if norm_v0==norm_v1==1:\n",
        "    print(\" The given two vectors are orthogonal and orthonormal\")\n",
        "  else:\n",
        "    print(\" The given two vectors are orthogonal but length of one vector is not 1 so not orthonormal\")\n",
        "else:\n",
        "  if norm_v0==norm_v1==1:\n",
        "    print(\" The length of given two vectors are 1 but dot product is not zero so not are orthogonal hence not orthonormal\")\n",
        "  else:\n",
        "    print(\" The length of the a vector in vectors are not 1 and also dot product is not zero so not are orthogonal hence not orthonormal\")"
      ],
      "metadata": {
        "colab": {
          "base_uri": "https://localhost:8080/"
        },
        "id": "muhNpe1gMPKS",
        "outputId": "15dee678-b208-4989-bae8-31da7f44be33"
      },
      "execution_count": null,
      "outputs": [
        {
          "output_type": "stream",
          "name": "stdout",
          "text": [
            "The dot product between two vectors is 0\n",
            "The length of the vector [1, 0, 0] is 1.0\n",
            "The length of the vector [0, 2, 0] is 2.0\n",
            " The given two vectors are orthogonal but length of one vector is not 1 so not orthonormal\n"
          ]
        }
      ]
    },
    {
      "cell_type": "markdown",
      "source": [
        "# Orthogonal set"
      ],
      "metadata": {
        "id": "mrgAxlXFTVwl"
      }
    },
    {
      "cell_type": "code",
      "source": [
        "import numpy as np\n",
        "\n",
        "def is_orthogonalset(vectors):\n",
        "    # Convert the list of vectors into a numpy array\n",
        "    vectors = np.array(vectors)\n",
        "\n",
        "    # Iterate through every pair of vectors\n",
        "    for i in range(len(vectors)):\n",
        "        for j in range(i + 1, len(vectors)):\n",
        "            # Calculate the dot product of vectors[i] and vectors[j]\n",
        "            dot_product = np.dot(vectors[i], vectors[j])\n",
        "            if not np.isclose(dot_product, 0):\n",
        "                return False  # The vectors are not orthogonal\n",
        "\n",
        "    # If all dot products are zero, the vectors are orthogonal\n",
        "    return True\n",
        "\n",
        "# For example:\n",
        "vectors = [\n",
        "    [1, 0, 0],\n",
        "    [0, 1, 0],\n",
        "    [0, 0, 2]\n",
        "]\n",
        "\n",
        "if is_orthogonalset(vectors):\n",
        "    print(\"The set of vectors is orthogonal.\")\n",
        "else:\n",
        "    print(\"The set of vectors is not orthogonal.\")\n"
      ],
      "metadata": {
        "colab": {
          "base_uri": "https://localhost:8080/"
        },
        "id": "tWidI7h_2iUG",
        "outputId": "79ae1961-fae8-4033-8ee7-0ea13d709917"
      },
      "execution_count": null,
      "outputs": [
        {
          "output_type": "stream",
          "name": "stdout",
          "text": [
            "The set of vectors is orthogonal.\n"
          ]
        }
      ]
    },
    {
      "cell_type": "markdown",
      "source": [
        "# Orthonormal set only"
      ],
      "metadata": {
        "id": "ez6qwAceYD4J"
      }
    },
    {
      "cell_type": "code",
      "source": [
        "import numpy as np\n",
        "\n",
        "def is_orthonormal_set(vectors):\n",
        "    # Convert the list of vectors into a numpy array\n",
        "    vectors = np.array(vectors)\n",
        "\n",
        "    # Iterate through every pair of vectors\n",
        "    for i in range(len(vectors)):\n",
        "        for j in range(i + 1, len(vectors)):\n",
        "            # Calculate the dot product of vectors[i] and vectors[j]\n",
        "            dot_product = np.dot(vectors[i], vectors[j])\n",
        "            norm_vi=np.linalg.norm(vectors[i])\n",
        "            norm_vj=np.linalg.norm(vectors[j])\n",
        "            if dot_product!=0 or norm_vi!=1 or norm_vj!=1:\n",
        "                return False  # The vectors are not orthogonal\n",
        "\n",
        "    # If all dot products are zero, the vectors are orthogonal\n",
        "    return True\n",
        "\n",
        "# For example:\n",
        "vectors = [\n",
        "    [1, 0, 0],\n",
        "    [0, 1, 0],\n",
        "    [0, 0, 2]\n",
        "]\n",
        "\n",
        "if is_orthonormal_set(vectors):\n",
        "    print(\"The set of vectors is orthonormal.\")\n",
        "else:\n",
        "    print(\"The set of vectors is not orthonormal.\")"
      ],
      "metadata": {
        "colab": {
          "base_uri": "https://localhost:8080/"
        },
        "id": "Ma5TNUM2X4aJ",
        "outputId": "aef1f2ae-ea83-487b-d0e7-d9a7522f02ab"
      },
      "execution_count": null,
      "outputs": [
        {
          "output_type": "stream",
          "name": "stdout",
          "text": [
            "The set of vectors is not orthonormal.\n"
          ]
        }
      ]
    },
    {
      "cell_type": "markdown",
      "source": [
        "#Orthogonal and  Orthonormal set together"
      ],
      "metadata": {
        "id": "sjRbPit2Tb0N"
      }
    },
    {
      "cell_type": "code",
      "source": [
        "import numpy as np\n",
        "\n",
        "def is_orthonormalset(vectors):\n",
        "    # Convert the list of vectors into a numpy array\n",
        "    vectors = np.array(vectors)\n",
        "    orthogonalset=is_orthogonalset(vectors)\n",
        "    if orthogonalset==True:\n",
        "      # Iterate through every pair of vectors\n",
        "      for i in range(len(vectors)):\n",
        "        norm_vi=np.linalg.norm(vectors[i])\n",
        "        if (norm_vi!=1):\n",
        "          return False  # The vectors are not orthogonal\n",
        "\n",
        "    # If all dot products are zero, the vectors are orthogonal\n",
        "    return True\n",
        "\n",
        "# For example:\n",
        "vectors = [\n",
        "    [1, 0, 0],\n",
        "    [0, 1, 0],\n",
        "    [0, 0, 2]\n",
        "]\n",
        "\n",
        "if is_orthogonalset(vectors):\n",
        "    #print(\"The set of vectors is orthogonal set.\")\n",
        "    if not is_orthonormalset(vectors):\n",
        "      print(\"The set of vectors is orthogonal but not orthonormal set.\")\n",
        "    else:\n",
        "      print(\"The set of vectors orthogonal set and orthonormal set.\")\n",
        "else:\n",
        "     print(\"The set of vectors neither orthogonal set not orthonormal set.\")\n"
      ],
      "metadata": {
        "colab": {
          "base_uri": "https://localhost:8080/"
        },
        "id": "44OUfrNf5d2z",
        "outputId": "6db625b3-cbf2-4a2c-acd0-2891e1f8eae3"
      },
      "execution_count": null,
      "outputs": [
        {
          "output_type": "stream",
          "name": "stdout",
          "text": [
            "The set of vectors is orthogonal but not orthonormal set.\n"
          ]
        }
      ]
    },
    {
      "cell_type": "markdown",
      "source": [
        "#orthogonal basis using function orthogonalset"
      ],
      "metadata": {
        "id": "fNl5pNbTX0HC"
      }
    },
    {
      "cell_type": "code",
      "source": [
        "import numpy as np\n",
        "\n",
        "def is_orthogonalset(vectors):\n",
        "    # Convert the list of vectors into a numpy array\n",
        "    vectors = np.array(vectors)\n",
        "\n",
        "    # Iterate through every pair of vectors\n",
        "    for i in range(len(vectors)):\n",
        "        for j in range(i + 1, len(vectors)):\n",
        "            # Calculate the dot product of vectors[i] and vectors[j]\n",
        "            dot_product = np.dot(vectors[i], vectors[j])\n",
        "            if not np.isclose(dot_product, 0):\n",
        "                return False  # The vectors are not orthogonal\n",
        "\n",
        "    # If all dot products are zero, the vectors are orthogonal\n",
        "    return True\n",
        "\n",
        "# For example:\n",
        "vectors = [\n",
        "    [1, 0, 0],\n",
        "    [0, 1, 0],\n",
        "    [0, 0, 1]\n",
        "]\n",
        "\n",
        "if is_orthogonalset(vectors):\n",
        "    print(\"The set of vectors is orthogonal.\")\n",
        "else:\n",
        "    print(\"The set of vectors is not orthogonal.\")"
      ],
      "metadata": {
        "colab": {
          "base_uri": "https://localhost:8080/"
        },
        "id": "yMuNXivkXza7",
        "outputId": "4283bd8d-4a48-4795-94cb-ba6479005918"
      },
      "execution_count": null,
      "outputs": [
        {
          "output_type": "stream",
          "name": "stdout",
          "text": [
            "The set of vectors is orthogonal.\n"
          ]
        }
      ]
    },
    {
      "cell_type": "code",
      "source": [
        "import numpy as np\n",
        "def IsOrthogonalBasis(vectors):\n",
        "  # Checking wether the set is orthogonal set for which we are using the previous fuction\n",
        "  if is_orthogonalset(vectors):\n",
        "    print(\"The set is linear independent\")\n",
        "    if len(vectors)==len(vectors[0]):\n",
        "      x=\"and it spans the vector space V. Hence it forms orthogonal basis for vector space\"\n",
        "    else:\n",
        "      x=\"and it spans the subspace W of vector space V. Hence it forms orthogonal basis for subspace\"\n",
        "  else:\n",
        "    x=\"The set is not orhtogonal basis\"\n",
        "  return x\n",
        "# For example:\n",
        "vectors = [\n",
        "    [1, 0, 0],\n",
        "    [0, 1, 0],\n",
        "    [0, 0, 0]\n",
        "]\n",
        "print(f\" The followings are the vector set {vectors}\")\n",
        "IsOrthogonalBasis(vectors)"
      ],
      "metadata": {
        "colab": {
          "base_uri": "https://localhost:8080/",
          "height": 70
        },
        "id": "F69efv_xYHt5",
        "outputId": "b4bced53-e98d-4261-d668-6b3da22e5c66"
      },
      "execution_count": null,
      "outputs": [
        {
          "output_type": "stream",
          "name": "stdout",
          "text": [
            " The followings are the vector set [[1, 0, 0], [0, 1, 0], [0, 0, 0]]\n",
            "The set is linear independent\n"
          ]
        },
        {
          "output_type": "execute_result",
          "data": {
            "text/plain": [
              "'and it spans the vector space V. Hence it forms orthogonal basis for vector space'"
            ],
            "application/vnd.google.colaboratory.intrinsic+json": {
              "type": "string"
            }
          },
          "metadata": {},
          "execution_count": 8
        }
      ]
    },
    {
      "cell_type": "markdown",
      "source": [
        "#orthonormal basis"
      ],
      "metadata": {
        "id": "c_tue4A1ejdI"
      }
    },
    {
      "cell_type": "code",
      "source": [
        "import numpy as np\n",
        "def IsOrthonormalBasis(vectors):\n",
        "  # Checking wether the set is orthogonal set for which we are using the previous fuction\n",
        "  if is_orthonormal_set(vectors):\n",
        "    print(\"The set is linear independent\")\n",
        "    if len(vectors)==len(vectors[0]):\n",
        "      x=\"and it spans the vector space V. Hence it forms orthonormal basis for vector space\"\n",
        "    else:\n",
        "      x=\"and it spans the subspace W of vector space V. Hence it forms orthonormal basis for subspace\"\n",
        "  else:\n",
        "    x=\"The set is not orthonormal basis\"\n",
        "  return x\n",
        "# For example:\n",
        "vectors = [\n",
        "    [1, 0, 0],\n",
        "    [0, 1, 0],\n",
        "    [0, 0, 1]\n",
        "]\n",
        "print(f\" The followings are the vector set {vectors}\")\n",
        "IsOrthonormalBasis(vectors)"
      ],
      "metadata": {
        "colab": {
          "base_uri": "https://localhost:8080/",
          "height": 70
        },
        "id": "wrvX6nDTdYh8",
        "outputId": "e8c28634-881d-4011-930c-bd9b79705d3a"
      },
      "execution_count": null,
      "outputs": [
        {
          "output_type": "stream",
          "name": "stdout",
          "text": [
            " The followings are the vector set [[1, 0, 0], [0, 1, 0], [0, 0, 1]]\n",
            "The set is linear independent\n"
          ]
        },
        {
          "output_type": "execute_result",
          "data": {
            "text/plain": [
              "'and it spans the vector space V. Hence it forms orthonormal basis for vector space'"
            ],
            "application/vnd.google.colaboratory.intrinsic+json": {
              "type": "string"
            }
          },
          "metadata": {},
          "execution_count": 9
        }
      ]
    },
    {
      "cell_type": "markdown",
      "source": [
        "#The set of vectors which are orthogonal to the given set of vectors\n",
        "(Orthogonal complement)"
      ],
      "metadata": {
        "id": "Eq5qgGYQSn9d"
      }
    },
    {
      "cell_type": "code",
      "source": [
        "import numpy as np\n",
        "from scipy.linalg import null_space\n",
        "def orthonormalcomplement(vectors):\n",
        "  vectors== np.array([u1,u2])\n",
        "  x = null_space(A)\n",
        "  return x\n",
        "u1=[1,1,1]\n",
        "u2=[1,1,1]\n",
        "A = np.array([u1,u2])\n",
        "x=orthonormalcomplement(A)\n",
        "print(f\"the given set of vectors\\n {A}\")\n",
        "print(f\"the set of vectors which are orthogonal to the given a set of vectors is\\n {x}\")\n",
        "print(f\" product of A and x is\\n {np.dot(A,x)}\")"
      ],
      "metadata": {
        "colab": {
          "base_uri": "https://localhost:8080/"
        },
        "id": "Ba8svHStalR5",
        "outputId": "4843ecc5-f6a3-48e8-c4e2-51aad096a43f"
      },
      "execution_count": null,
      "outputs": [
        {
          "output_type": "stream",
          "name": "stdout",
          "text": [
            "the given set of vectors\n",
            " [[1 1 1]\n",
            " [1 1 1]]\n",
            "the set of vectors which are orthogonal to the given a set of vectors is\n",
            " [[-0.81649658  0.        ]\n",
            " [ 0.40824829 -0.70710678]\n",
            " [ 0.40824829  0.70710678]]\n",
            " product of A and x is\n",
            " [[-1.11022302e-16  0.00000000e+00]\n",
            " [-1.11022302e-16  0.00000000e+00]]\n"
          ]
        }
      ]
    },
    {
      "cell_type": "markdown",
      "source": [
        "#Projection of y on u"
      ],
      "metadata": {
        "id": "IkraL3UoVE9t"
      }
    },
    {
      "cell_type": "code",
      "source": [
        "import numpy as np\n",
        "def proj(y,u):\n",
        "  # Convert the list of vectors into a numpy array\n",
        "  y= np.array(y)\n",
        "  u= np.array(u)\n",
        "  proj_y=(np.dot(y, u)/np.dot(u, u))*u\n",
        "  return proj_y\n",
        "# For example:\n",
        "u=[1,3,4]\n",
        "print(f\" The vector u is {u}\")\n",
        "y=[1,2,3]\n",
        "print(f\" The given vector y is {y}\")\n",
        "print(f\"The projection of y on a set of vectors is {proj(y,u)}\")\n",
        "\n",
        "\n"
      ],
      "metadata": {
        "id": "wLqjSUqgtZD2",
        "colab": {
          "base_uri": "https://localhost:8080/"
        },
        "outputId": "cd5c2e5b-8bed-4029-d6ee-fb1040bc2687"
      },
      "execution_count": null,
      "outputs": [
        {
          "output_type": "stream",
          "name": "stdout",
          "text": [
            " The vector u is [1, 3, 4]\n",
            " The given vector y is [1, 2, 3]\n",
            "The projection of y on a set of vectors is [0.73076923 2.19230769 2.92307692]\n"
          ]
        }
      ]
    },
    {
      "cell_type": "markdown",
      "source": [
        "#Projection of y on {u1,u2,....u3}"
      ],
      "metadata": {
        "id": "B9y0SkgmVRYN"
      }
    },
    {
      "cell_type": "code",
      "source": [
        "def proj_of_y(y,vectors):\n",
        "    total_proj = 0.0\n",
        "    for i in range(len(vectors)):\n",
        "        total_proj += proj(y, vectors[i])  # Accumulate projections here\n",
        "    return total_proj\n",
        "# For example:\n",
        "vectors = [\n",
        "    [1, 0, 0],\n",
        "    [2, 1, 3],\n",
        "    [1, 0, 2]\n",
        "]\n",
        "print(f\" The followings are the vector set {vectors}\")\n",
        "y=[1,2,3]\n",
        "print(f\" The given vector y {y}\")\n",
        "print(f\"The projection of y on a set of vectors is {proj_of_y(y,vectors)}\")\n"
      ],
      "metadata": {
        "id": "CXdG9sqCF2vO",
        "colab": {
          "base_uri": "https://localhost:8080/"
        },
        "outputId": "17ee659d-f92e-484b-cbde-258b13be01b3"
      },
      "execution_count": null,
      "outputs": [
        {
          "output_type": "stream",
          "name": "stdout",
          "text": [
            " The followings are the vector set [[1, 0, 0], [2, 1, 3], [1, 0, 2]]\n",
            " The given vector y [1, 2, 3]\n",
            "The projection of y on a set of vectors is [4.25714286 0.92857143 5.58571429]\n"
          ]
        }
      ]
    },
    {
      "cell_type": "markdown",
      "source": [
        "#Least square method and least squre error"
      ],
      "metadata": {
        "id": "0-RRt4NRhqDr"
      }
    },
    {
      "cell_type": "code",
      "source": [
        "import numpy as np\n",
        "from scipy.linalg import lstsq\n",
        "A = [[1, 1, 0 ,0],[1,1,0,0],[1,0,1,0],[1,0,1,0],[1,0,0,1],[1,0,0,1]]\n",
        "b=[-3,-1,0,2,5,1]\n",
        "p, res, rnk, s = lstsq(A, b)\n",
        "print(f\"The matrix A is {A} and b is {b}\")\n",
        "print(f\"The least square solution for Ax=b is {p}\")\n",
        "print(f\"the least error is {np.sqrt(res)}\")"
      ],
      "metadata": {
        "colab": {
          "base_uri": "https://localhost:8080/"
        },
        "id": "phB950zjq8Z2",
        "outputId": "a00b98de-707d-4bfc-de0d-98bae3e91f6d"
      },
      "execution_count": null,
      "outputs": [
        {
          "output_type": "stream",
          "name": "stdout",
          "text": [
            "The matrix A is [[1, 1, 0, 0], [1, 1, 0, 0], [1, 0, 1, 0], [1, 0, 1, 0], [1, 0, 0, 1], [1, 0, 0, 1]] and b is [-3, -1, 0, 2, 5, 1]\n",
            "The least square solution for Ax=b is [ 0.5 -2.5  0.5  2.5]\n",
            "the least error is []\n"
          ]
        }
      ]
    },
    {
      "cell_type": "code",
      "source": [
        "import numpy as np\n",
        "from scipy.linalg import lstsq\n",
        "A = [[4,0],\n",
        "    [0, 2],\n",
        "    [1, 1]]\n",
        "b=[2,0,11]\n",
        "print(f\"The matrix A is {A} and b is {b}\")\n",
        "p, res, rnk, s = lstsq(A, b)\n",
        "print(f\"The least square solution for Ax=b is {p}\")\n",
        "print(f\"the least error is {np.sqrt(res)}\")"
      ],
      "metadata": {
        "colab": {
          "base_uri": "https://localhost:8080/"
        },
        "id": "hlB2mOvrEzOc",
        "outputId": "820e45f3-334f-4db6-8e96-9ba436132fff"
      },
      "execution_count": null,
      "outputs": [
        {
          "output_type": "stream",
          "name": "stdout",
          "text": [
            "The matrix A is [[4, 0], [0, 2], [1, 1]] and b is [2, 0, 11]\n",
            "The least square solution for Ax=b is [1. 2.]\n",
            "the least error is 9.165151389911681\n"
          ]
        }
      ]
    },
    {
      "cell_type": "markdown",
      "source": [
        "#Projection Matrix of a1 and a2"
      ],
      "metadata": {
        "id": "Fby0pxfKSIUB"
      }
    },
    {
      "cell_type": "code",
      "source": [
        "import numpy as np\n",
        "from numpy.linalg import inv\n",
        "def calc_proj_matrix(A):\n",
        "    ATA=np.dot(A.T,A)\n",
        "    ATA_inv=np.linalg.inv(ATA)\n",
        "    AdotATA_inv=np.dot(A,ATA_inv)\n",
        "    P=np.dot(AdotATA_inv,A.T)\n",
        "    return P\n",
        "a1=[1,0,1]\n",
        "a2=[1,1,1]\n",
        "B=np.vstack([a1,a2]).T\n",
        "print(f\"The matrix A is {B} and shape of a matrix {np.shape(B)}\")\n",
        "print(f\"(The projection of A is P= {calc_proj_matrix(B)}\")"
      ],
      "metadata": {
        "colab": {
          "base_uri": "https://localhost:8080/"
        },
        "id": "htKthrjBG1OQ",
        "outputId": "1594d7ba-a4e9-40fe-e1e1-b8070fb7e614"
      },
      "execution_count": null,
      "outputs": [
        {
          "output_type": "stream",
          "name": "stdout",
          "text": [
            "The matrix A is [[1 1]\n",
            " [0 1]\n",
            " [1 1]] and shape of a matrix (3, 2)\n",
            "(The projection of A is P= [[0.5 0.  0.5]\n",
            " [0.  1.  0. ]\n",
            " [0.5 0.  0.5]]\n"
          ]
        }
      ]
    },
    {
      "cell_type": "markdown",
      "source": [
        "#Gram smidth process"
      ],
      "metadata": {
        "id": "dp-E0MhvpgnQ"
      }
    },
    {
      "cell_type": "code",
      "source": [
        "import numpy as np\n",
        "def proj(y,u):\n",
        "  # Convert the list of vectors into a numpy array\n",
        "  y= np.array(y)\n",
        "  u= np.array(u)\n",
        "  proj_y=(np.dot(y, u)/np.dot(u, u))*u\n",
        "  return proj_y\n",
        "def gram_smidth(vectors):\n",
        "  V=[]#empty set\n",
        "  # Convert the list of vectors into a numpy array\n",
        "  vectors=np.array(vectors)\n",
        "  for i in range(len(vectors)):\n",
        "    temp=vectors[i]\n",
        "    for j in V:\n",
        "      temp=temp-proj(vectors[i],j)\n",
        "    V.append(temp)\n",
        "  return V\n",
        "\n",
        "A = [[1.0, 1.0, 2.0], [1.0, -1.0, 1.0], [1.0, 2.0, 2.0]]\n",
        "print(f\" The gram smidth process which give the orthogonal basis are \\n{gram_smidth(A)}\")\n",
        "#verification\n",
        "print(f\"dot product of first two vectors is \\n{np.dot(gram_smidth(A)[0],gram_smidth(A)[1])}\")\n"
      ],
      "metadata": {
        "id": "RJ9CB9OpM53v",
        "colab": {
          "base_uri": "https://localhost:8080/"
        },
        "outputId": "7f6690f1-5c98-4698-b60a-f548f547ec05"
      },
      "execution_count": 35,
      "outputs": [
        {
          "output_type": "stream",
          "name": "stdout",
          "text": [
            " The gram smidth process which give the orthogonal basis are \n",
            "[array([1., 1., 2.]), array([ 0.66666667, -1.33333333,  0.33333333]), array([ 0.21428571,  0.07142857, -0.14285714])]\n",
            "dot product of first two vectors is \n",
            "2.220446049250313e-16\n"
          ]
        }
      ]
    },
    {
      "cell_type": "code",
      "source": [],
      "metadata": {
        "id": "7TdlEWT4rwI4"
      },
      "execution_count": null,
      "outputs": []
    }
  ]
}